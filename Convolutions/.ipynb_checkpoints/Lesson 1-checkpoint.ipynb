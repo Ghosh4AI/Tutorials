{
 "cells": [
  {
   "cell_type": "markdown",
   "metadata": {},
   "source": [
    "# WHY CONVOLUTIONS WORK"
   ]
  },
  {
   "cell_type": "code",
   "execution_count": null,
   "metadata": {},
   "outputs": [],
   "source": [
    "# IMPORTS\n",
    "import numpy as np\n",
    "import scipy as sp\n",
    "import skimage.io as io\n",
    "import skimage.transform as t\n",
    "import matplotlib.pyplot as plt\n",
    "import warnings\n",
    "warnings.filterwarnings('ignore')"
   ]
  },
  {
   "cell_type": "markdown",
   "metadata": {},
   "source": [
    "### Some Samples\n",
    "Let us now create some samples to work with. We shall attempt to use convolutions to distinguish between a square and a rhombus."
   ]
  },
  {
   "cell_type": "code",
   "execution_count": null,
   "metadata": {},
   "outputs": [],
   "source": [
    "# CREATING SOME SAMPLES TO WORK WITH\n",
    "\n",
    "square = np.zeros((256,256))\n",
    "square[64:192,64:192]=1\n",
    "io.imsave('sample_data/square.png',(square*255).astype(np.uint8))\n",
    "rhombus = t.rotate(square,45)\n",
    "io.imsave('sample_data/rhombus.png',(rhombus*255).astype(np.uint8))\n",
    "plt.rcParams['figure.dpi']= 75\n",
    "io.imshow_collection([square,rhombus])"
   ]
  },
  {
   "cell_type": "markdown",
   "metadata": {},
   "source": [
    "### Now let us create a custom kernel"
   ]
  },
  {
   "cell_type": "code",
   "execution_count": null,
   "metadata": {},
   "outputs": [],
   "source": [
    "# Desinging a kernel\n",
    "kernel_d = np.array ([[-1,-1, 0],\n",
    "                      [-1, 0, 1],\n",
    "                      [ 0, 1, 1]]).astype(np.int8)\n",
    "kernel_h = np.array ([[-1,-1,-1],\n",
    "                      [ 0, 0, 0],\n",
    "                      [ 1, 1, 1]]).astype(np.int8)\n",
    "plt.rcParams['figure.dpi']= 75\n",
    "io.imshow_collection([kernel_h,kernel_d])"
   ]
  },
  {
   "cell_type": "code",
   "execution_count": null,
   "metadata": {},
   "outputs": [],
   "source": [
    "# Defining convolution for single kernel \n",
    "def convolute (image, kernel, bias):\n",
    "    H,W = image.shape\n",
    "    kH,kW = kernel.shape\n",
    "    H_out = H-kH+1                                               # output height\n",
    "    W_out = W-kW+1                                               # output width\n",
    "    output = np.zeros((H_out,W_out))                             # Initializing output\n",
    "    for x in range (H_out):                                      # sliding kernel vertically\n",
    "        for y in range (W_out):                                  # sliding kernel horizontally\n",
    "            ix,iy = x+int(kW/2),y+int(kH/2)                      # centre of the kernel on the image\n",
    "            region = image[ix-int(kW/2):ix+int(kW/2)+1,\n",
    "                           iy-int(kH/2):iy+int(kH/2)+1]          # region of image corresponding to kernel position\n",
    "            output[x,y] = np.multiply(kernel,region).sum()+bias  # Affine transformation: y = sum(w*x)+b\n",
    "            output[x,y] = output[x,y] if output[x,y]>=0 else 0   # Non-linearity (relu)\n",
    "    if (output.max(_map) != 0):\n",
    "        output = output/output.max()\n",
    "    return (output)\n",
    "\n",
    "image, kernel = rhombus, kernel_d\n",
    "op = convolute(image,kernel,-2)\n",
    "plt.rcParams['figure.dpi']= 75\n",
    "io.imshow(op)"
   ]
  },
  {
   "cell_type": "markdown",
   "metadata": {},
   "source": [
    "### Now more kernels"
   ]
  },
  {
   "cell_type": "code",
   "execution_count": 113,
   "metadata": {},
   "outputs": [],
   "source": [
    "# More Kernels\n",
    "kernels = np.zeros((8,3,3))\n",
    "kernels[0] = np.array ([[ 1, 1, 1],[ 0, 0, 0],[-1,-1,-1]])    # South\n",
    "kernels[1] = np.array ([[-1,-1,-1],[ 0, 0, 0],[ 1, 1, 1]])    # North\n",
    "kernels[2] = np.array ([[ 1, 0,-1],[ 1, 0,-1],[ 1, 0,-1]])    # East\n",
    "kernels[3] = np.array ([[-1, 0, 1],[-1, 0, 1],[-1, 0, 1]])    # West\n",
    "kernels[4] = np.array ([[ 1, 1, 0],[ 1, 0,-1],[ 0,-1,-1]])    # Southeast\n",
    "kernels[5] = np.array ([[ 0,-1,-1],[ 1, 0,-1],[ 1, 1, 0]])    # Northeast\n",
    "kernels[6] = np.array ([[ 0, 1, 1],[-1, 0, 1],[-1,-1, 0]])    # Southwest\n",
    "kernels[7] = np.array ([[-1,-1, 0],[-1, 0, 1],[ 0, 1, 1]])    # Northwest\n",
    "biases = [-2]*8"
   ]
  },
  {
   "cell_type": "code",
   "execution_count": 114,
   "metadata": {},
   "outputs": [],
   "source": [
    "# Redefining convolution for multiple kernels\n",
    "def convolute (image, kernels, biases):\n",
    "    H,W = image.shape\n",
    "    kC,kH,kW = kernels.shape                                               # Multiple Kernels (kC)\n",
    "    H_out = H-kH+1                                                         \n",
    "    W_out = W-kW+1                                                         \n",
    "    output = np.zeros((H_out,W_out,kC))                                    # Initializing output for multi kernels\n",
    "    for k in range (kC):                                                   # Repeating for multiple kernels *\n",
    "        kernel = kernels[k]\n",
    "        for x in range (H_out):                                            \n",
    "            for y in range (W_out):                                        \n",
    "                ix,iy = x+int(kW/2),y+int(kH/2)                           \n",
    "                region = image[ix-int(kW/2):ix+int(kW/2)+1,\n",
    "                               iy-int(kH/2):iy+int(kH/2)+1]                \n",
    "                output[x,y,k] = np.multiply(kernel,region).sum()+biases[k] # Affine transformation for every kernel\n",
    "                output[x,y,k] = output[x,y,k] if output[x,y,k]>=0 else 0   # Non-linearity (relu) for every kernel\n",
    "    if (output.max() != 0):\n",
    "        output = output/output.max()\n",
    "    return (output)\n",
    "image = square\n",
    "op = convolute(image,kernels,biases)\n",
    "for i in range (op.shape[2]):\n",
    "    io.imsave('sample_data/kernel_output%d.png'%i,(op[:,:,i]))\n"
   ]
  },
  {
   "cell_type": "markdown",
   "metadata": {},
   "source": [
    "### Doing convolutions on multi-channeled inputs"
   ]
  },
  {
   "cell_type": "code",
   "execution_count": 173,
   "metadata": {},
   "outputs": [],
   "source": [
    "# Redefining convolution for multi_channeled inputs\n",
    "\n",
    "def convolute (image, kernels, biases):\n",
    "    H,W,C = image.shape                         # Images must have 3 dims (Height, Width, Channels)\n",
    "    k_OC,kH,kW,k_IC = kernels.shape             # Kernel must have 4 dims (Height, Width, I/P channels, O/P channels)                                \n",
    "    H_out = H-kH+1                                                         \n",
    "    W_out = W-kW+1                                                         \n",
    "    output = np.zeros((H_out,W_out,k_OC))                                    \n",
    "    for k in range (k_OC):                                                   \n",
    "        kernel = kernels[k]\n",
    "        for x in range (H_out):                                            \n",
    "            for y in range (W_out):                                        \n",
    "                ix,iy = x+int(kW/2),y+int(kH/2)                           \n",
    "                region = image[ix-int(kW/2):ix+int(kW/2)+1,\n",
    "                               iy-int(kH/2):iy+int(kH/2)+1]                \n",
    "                output[x,y,k] = np.multiply(kernel,region).sum()+biases[k] \n",
    "                output[x,y,k] = output[x,y,k] if output[x,y,k]>=0 else 0   \n",
    "    if (output.max() != 0):\n",
    "        output = output/output.max()\n",
    "    return (output)\n",
    "\n",
    "# But we have to reshape inputs and kernels to match required dimensions\n",
    "image = rhombus\n",
    "image = image.reshape(image.shape[0],image.shape[1],1)\n",
    "l1_kernels = kernels.reshape(kernels.shape[0],kernels.shape[1],kernels.shape[2],1)\n",
    "biases = [-2]*8\n",
    "l1_out = convolute(image,l1_kernels,biases)\n",
    "for i in range (l1_out.shape[2]):\n",
    "    io.imsave('sample_data/l1_output%d.png'%i,(l1_out[:,:,i]))\n",
    "    \n"
   ]
  },
  {
   "cell_type": "markdown",
   "metadata": {},
   "source": [
    "### Mixing features with higher layers"
   ]
  },
  {
   "cell_type": "code",
   "execution_count": 174,
   "metadata": {},
   "outputs": [
    {
     "name": "stdout",
     "output_type": "stream",
     "text": [
      "(2, 1, 1, 8)\n"
     ]
    }
   ],
   "source": [
    "l2_kernels = np.array([[1,1,1,1,0,0,0,0],[0,0,0,0,1,1,1,1]]).astype(np.int8)\n",
    "l2_kernels = l2_kernels.reshape(l2_kernels.shape[0],1,1,l2_kernels.shape[1])\n",
    "print(l2_kernels.shape)"
   ]
  },
  {
   "cell_type": "code",
   "execution_count": 175,
   "metadata": {},
   "outputs": [],
   "source": [
    "l2_out = convolute(l1_out,l2_kernels,[0,0])\n",
    "for i in range (l2_out.shape[2]):\n",
    "    io.imsave('sample_data/l2_output%d.png'%i,(l2_out[:,:,i]))"
   ]
  },
  {
   "cell_type": "markdown",
   "metadata": {},
   "source": [
    "### Classifying outputs using features"
   ]
  },
  {
   "cell_type": "code",
   "execution_count": 176,
   "metadata": {},
   "outputs": [],
   "source": [
    "sq_kernel = np.array([[[1,0]]*254]*254)\n",
    "rh_kernel = np.array([[[0,1]]*254]*254)\n",
    "output_kernels = np.array([sq_kernel,rh_kernel]).astype(np.uint8)"
   ]
  },
  {
   "cell_type": "code",
   "execution_count": 177,
   "metadata": {},
   "outputs": [
    {
     "name": "stdout",
     "output_type": "stream",
     "text": [
      "It is a rhombus\n"
     ]
    }
   ],
   "source": [
    "outputs = convolute(l2_out,output_kernels,[-5,-5])\n",
    "if (outputs.squeeze()[0]==1):\n",
    "    print (\"It is a square\")\n",
    "if (outputs.squeeze()[1]==1):\n",
    "    print(\"It is a rhombus\")"
   ]
  },
  {
   "cell_type": "code",
   "execution_count": null,
   "metadata": {},
   "outputs": [],
   "source": []
  },
  {
   "cell_type": "code",
   "execution_count": null,
   "metadata": {},
   "outputs": [],
   "source": []
  }
 ],
 "metadata": {
  "kernelspec": {
   "display_name": "Python 3",
   "language": "python",
   "name": "python3"
  },
  "language_info": {
   "codemirror_mode": {
    "name": "ipython",
    "version": 3
   },
   "file_extension": ".py",
   "mimetype": "text/x-python",
   "name": "python",
   "nbconvert_exporter": "python",
   "pygments_lexer": "ipython3",
   "version": "3.6.4"
  }
 },
 "nbformat": 4,
 "nbformat_minor": 2
}
